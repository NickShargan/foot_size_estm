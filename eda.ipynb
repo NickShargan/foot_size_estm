{
 "cells": [
  {
   "cell_type": "code",
   "execution_count": 1,
   "metadata": {},
   "outputs": [],
   "source": [
    "from ultralytics import SAM"
   ]
  },
  {
   "cell_type": "code",
   "execution_count": 42,
   "metadata": {},
   "outputs": [],
   "source": [
    "import numpy as np\n",
    "import matplotlib.pyplot as plt\n",
    "import matplotlib.colors as mcolors"
   ]
  },
  {
   "cell_type": "code",
   "execution_count": 2,
   "metadata": {},
   "outputs": [
    {
     "name": "stdout",
     "output_type": "stream",
     "text": [
      "Downloading https://github.com/ultralytics/assets/releases/download/v8.3.0/sam2.1_b.pt to 'sam2.1_b.pt'...\n"
     ]
    },
    {
     "name": "stderr",
     "output_type": "stream",
     "text": [
      "100%|██████████| 154M/154M [00:07<00:00, 23.0MB/s] \n"
     ]
    }
   ],
   "source": [
    "# Load a model\n",
    "model = SAM(\"sam2.1_b.pt\")"
   ]
  },
  {
   "cell_type": "code",
   "execution_count": 4,
   "metadata": {},
   "outputs": [
    {
     "name": "stdout",
     "output_type": "stream",
     "text": [
      "\n",
      "image 1/1 /home/nick/Projects/foot_size_estm/foot_size_estm/IMG_7344.jpg: 1024x1024 1 0, 108.5ms\n",
      "Speed: 11.6ms preprocess, 108.5ms inference, 0.8ms postprocess per image at shape (1, 3, 1024, 1024)\n"
     ]
    }
   ],
   "source": [
    "# Run inference with bboxes prompt\n",
    "results = model(\"./foot_size_estm/IMG_7344.jpg\", bboxes=[100, 100, 200, 200])\n",
    "\n",
    "# # Run inference with single point\n",
    "# results = model(points=[900, 370], labels=[1])\n",
    "\n",
    "# # Run inference with multiple points\n",
    "# results = model(points=[[400, 370], [900, 370]], labels=[1, 1])\n",
    "\n",
    "# # Run inference with multiple points prompt per object\n",
    "# results = model(points=[[[400, 370], [900, 370]]], labels=[[1, 1]])\n",
    "\n",
    "# # Run inference with negative points prompt\n",
    "# results = model(points=[[[400, 370], [900, 370]]], labels=[[1, 0]])"
   ]
  },
  {
   "cell_type": "code",
   "execution_count": 9,
   "metadata": {},
   "outputs": [
    {
     "data": {
      "text/plain": [
       "torch.Size([1, 4032, 3024])"
      ]
     },
     "execution_count": 9,
     "metadata": {},
     "output_type": "execute_result"
    }
   ],
   "source": [
    "results[0].masks.data.shape"
   ]
  },
  {
   "cell_type": "code",
   "execution_count": 12,
   "metadata": {},
   "outputs": [
    {
     "name": "stdout",
     "output_type": "stream",
     "text": [
      "\n",
      "image 1/1 /home/nick/Projects/foot_size_estm/foot_size_estm/IMG_7344.jpg: 1024x1024 1 0, 1 1, 1 2, 1 3, 1 4, 1 5, 1 6, 1 7, 1 8, 1 9, 1 10, 1 11, 1 12, 1 13, 1 14, 1 15, 1 16, 1 17, 1 18, 1 19, 1 20, 1 21, 4141.0ms\n",
      "Speed: 11.7ms preprocess, 4141.0ms inference, 10.4ms postprocess per image at shape (1, 3, 1024, 1024)\n"
     ]
    }
   ],
   "source": [
    "results = model(\"./foot_size_estm/IMG_7344.jpg\")"
   ]
  },
  {
   "cell_type": "code",
   "execution_count": 15,
   "metadata": {},
   "outputs": [
    {
     "data": {
      "text/plain": [
       "[ultralytics.engine.results.Results object with attributes:\n",
       " \n",
       " boxes: ultralytics.engine.results.Boxes object\n",
       " keypoints: None\n",
       " masks: ultralytics.engine.results.Masks object\n",
       " names: {0: '0', 1: '1', 2: '2', 3: '3', 4: '4', 5: '5', 6: '6', 7: '7', 8: '8', 9: '9', 10: '10', 11: '11', 12: '12', 13: '13', 14: '14', 15: '15', 16: '16', 17: '17', 18: '18', 19: '19', 20: '20', 21: '21'}\n",
       " obb: None\n",
       " orig_img: array([[[103, 122, 127],\n",
       "         [107, 126, 131],\n",
       "         [108, 127, 132],\n",
       "         ...,\n",
       "         [101, 117, 124],\n",
       "         [ 98, 114, 121],\n",
       "         [ 96, 112, 119]],\n",
       " \n",
       "        [[105, 124, 129],\n",
       "         [108, 127, 132],\n",
       "         [109, 128, 133],\n",
       "         ...,\n",
       "         [100, 116, 123],\n",
       "         [ 99, 115, 122],\n",
       "         [ 98, 114, 121]],\n",
       " \n",
       "        [[106, 125, 130],\n",
       "         [109, 128, 133],\n",
       "         [110, 129, 134],\n",
       "         ...,\n",
       "         [ 98, 114, 121],\n",
       "         [ 99, 115, 122],\n",
       "         [ 97, 113, 120]],\n",
       " \n",
       "        ...,\n",
       " \n",
       "        [[136, 155, 162],\n",
       "         [136, 155, 162],\n",
       "         [136, 155, 162],\n",
       "         ...,\n",
       "         [ 56,  65,  78],\n",
       "         [ 54,  63,  76],\n",
       "         [ 54,  63,  76]],\n",
       " \n",
       "        [[132, 151, 158],\n",
       "         [132, 151, 158],\n",
       "         [132, 151, 158],\n",
       "         ...,\n",
       "         [ 55,  64,  77],\n",
       "         [ 53,  62,  75],\n",
       "         [ 52,  61,  74]],\n",
       " \n",
       "        [[136, 155, 162],\n",
       "         [135, 154, 161],\n",
       "         [131, 150, 157],\n",
       "         ...,\n",
       "         [ 54,  63,  76],\n",
       "         [ 53,  62,  75],\n",
       "         [ 51,  60,  73]]], dtype=uint8)\n",
       " orig_shape: (4032, 3024)\n",
       " path: '/home/nick/Projects/foot_size_estm/foot_size_estm/IMG_7344.jpg'\n",
       " probs: None\n",
       " save_dir: 'runs/segment/predict'\n",
       " speed: {'preprocess': 11.701345443725586, 'inference': 4141.046524047852, 'postprocess': 10.406017303466797}]"
      ]
     },
     "execution_count": 15,
     "metadata": {},
     "output_type": "execute_result"
    }
   ],
   "source": [
    "results"
   ]
  },
  {
   "cell_type": "code",
   "execution_count": 51,
   "metadata": {},
   "outputs": [
    {
     "data": {
      "image/png": "[encoded data removed]",
      "text/plain": [
       "<Figure size 640x480 with 1 Axes>"
      ]
     },
     "metadata": {},
     "output_type": "display_data"
    }
   ],
   "source": [
    "# Get the original image as a numpy array\n",
    "img = np.array(results[0].orig_img)\n",
    "\n",
    "# Get the segmentation masks\n",
    "masks = results[0].masks.data\n",
    "\n",
    "masks = masks.cpu().numpy() \n",
    "\n",
    "# masks= masks[0]\n",
    "\n",
    "# plt.imshow(masks)\n",
    "\n",
    "# Plot the image and overlay the masks\n",
    "# plt.imshow(img)\n",
    "\n",
    "# num_masks = masks.shape[0]\n",
    "# colors = np.random.rand(num_masks, 3)  # RGB values between 0-1\n",
    "\n",
    "# for i, mask in enumerate(masks):\n",
    "#     colored_mask = np.zeros_like(img, dtype=np.float32)\n",
    "#     for c in range(3):  # Apply same mask to R,G,B with chosen color\n",
    "#         colored_mask[:, :, c] = mask * colors[i, c]\n",
    "\n",
    "#     plt.imshow(colored_mask)  # Adjust alpha for transparency\n",
    "\n",
    "idx = 8\n",
    "for mask in masks[idx : idx + 1]:\n",
    "    # plt.imshow(mask, alpha=0.5)  # Adjust alpha for mask transparency\n",
    "    plt.imshow(mask) \n",
    "plt.axis('off')  # Hide the axes\n",
    "plt.show()\n",
    "# plt.imsave(\"seg.png\")"
   ]
  },
  {
   "cell_type": "code",
   "execution_count": 65,
   "metadata": {},
   "outputs": [
    {
     "data": {
      "image/png": "[encoded data removed]",
      "text/plain": [
       "<Figure size 640x480 with 1 Axes>"
      ]
     },
     "metadata": {},
     "output_type": "display_data"
    }
   ],
   "source": [
    "idx = 22\n",
    "for mask in masks[idx : idx + 1]:\n",
    "    # plt.imshow(mask, alpha=0.5)  # Adjust alpha for mask transparency\n",
    "    plt.imshow(mask) \n",
    "plt.axis('off')  # Hide the axes\n",
    "plt.show()"
   ]
  },
  {
   "cell_type": "code",
   "execution_count": 29,
   "metadata": {},
   "outputs": [],
   "source": [
    "masks = results[0].masks.data"
   ]
  },
  {
   "cell_type": "code",
   "execution_count": 32,
   "metadata": {},
   "outputs": [
    {
     "ename": "TypeError",
     "evalue": "'builtin_function_or_method' object is not subscriptable",
     "output_type": "error",
     "traceback": [
      "\u001b[0;31m---------------------------------------------------------------------------\u001b[0m",
      "\u001b[0;31mTypeError\u001b[0m                                 Traceback (most recent call last)",
      "Cell \u001b[0;32mIn[32], line 1\u001b[0m\n\u001b[0;32m----> 1\u001b[0m masks\u001b[39m=\u001b[39m np\u001b[39m.\u001b[39marray(masks[\u001b[39m0\u001b[39;49m])\n",
      "\u001b[0;31mTypeError\u001b[0m: 'builtin_function_or_method' object is not subscriptable"
     ]
    }
   ],
   "source": [
    "masks= np.array(masks[0])"
   ]
  },
  {
   "cell_type": "code",
   "execution_count": 33,
   "metadata": {},
   "outputs": [
    {
     "ename": "AttributeError",
     "evalue": "'builtin_function_or_method' object has no attribute 'shape'",
     "output_type": "error",
     "traceback": [
      "\u001b[0;31m---------------------------------------------------------------------------\u001b[0m",
      "\u001b[0;31mAttributeError\u001b[0m                            Traceback (most recent call last)",
      "Cell \u001b[0;32mIn[33], line 1\u001b[0m\n\u001b[0;32m----> 1\u001b[0m masks\u001b[39m.\u001b[39;49mshape\n",
      "\u001b[0;31mAttributeError\u001b[0m: 'builtin_function_or_method' object has no attribute 'shape'"
     ]
    }
   ],
   "source": [
    "masks.shape"
   ]
  },
  {
   "cell_type": "code",
   "execution_count": 37,
   "metadata": {},
   "outputs": [
    {
     "name": "stderr",
     "output_type": "stream",
     "text": [
      "Error: no \"view\" rule for type \"image/png\" passed its test case\n",
      "       (for more information, add \"--debug=1\" on the command line)\n"
     ]
    }
   ],
   "source": [
    "results[0].show()"
   ]
  },
  {
   "cell_type": "code",
   "execution_count": 66,
   "metadata": {},
   "outputs": [
    {
     "name": "stdout",
     "output_type": "stream",
     "text": [
      "\n",
      "image 1/1 /home/nick/Projects/foot_size_estm/foot_size_estm/IMG_7343.jpg: 1024x1024 1 0, 1 1, 1 2, 1 3, 1 4, 4165.9ms\n",
      "Speed: 15.5ms preprocess, 4165.9ms inference, 2.4ms postprocess per image at shape (1, 3, 1024, 1024)\n"
     ]
    }
   ],
   "source": [
    "results_2 = model(\"./foot_size_estm/IMG_7343.jpg\")"
   ]
  },
  {
   "cell_type": "code",
   "execution_count": 69,
   "metadata": {},
   "outputs": [
    {
     "name": "stdout",
     "output_type": "stream",
     "text": [
      "(5, 4032, 3024)\n"
     ]
    },
    {
     "data": {
      "image/png": "[encoded data removed]",
      "text/plain": [
       "<Figure size 640x480 with 1 Axes>"
      ]
     },
     "metadata": {},
     "output_type": "display_data"
    }
   ],
   "source": [
    "# Get the original image as a numpy array\n",
    "img_2 = np.array(results_2[0].orig_img)\n",
    "\n",
    "# Get the segmentation masks\n",
    "masks_2 = results_2[0].masks.data\n",
    "\n",
    "masks_2 = masks_2.cpu().numpy() \n",
    "\n",
    "print(masks_2.shape)\n",
    "\n",
    "# masks= masks[0]\n",
    "\n",
    "# plt.imshow(masks)\n",
    "\n",
    "# Plot the image and overlay the masks\n",
    "# plt.imshow(img)\n",
    "\n",
    "# num_masks = masks.shape[0]\n",
    "# colors = np.random.rand(num_masks, 3)  # RGB values between 0-1\n",
    "\n",
    "# for i, mask in enumerate(masks):\n",
    "#     colored_mask = np.zeros_like(img, dtype=np.float32)\n",
    "#     for c in range(3):  # Apply same mask to R,G,B with chosen color\n",
    "#         colored_mask[:, :, c] = mask * colors[i, c]\n",
    "\n",
    "#     plt.imshow(colored_mask)  # Adjust alpha for transparency\n",
    "\n",
    "idx = 0\n",
    "for mask in masks_2[idx : idx + 1]:\n",
    "    # plt.imshow(mask, alpha=0.5)  # Adjust alpha for mask transparency\n",
    "    plt.imshow(mask) \n",
    "plt.axis('off')  # Hide the axes\n",
    "plt.show()\n",
    "# plt.imsave(\"seg.png\")"
   ]
  },
  {
   "cell_type": "code",
   "execution_count": 72,
   "metadata": {},
   "outputs": [
    {
     "data": {
      "image/png": "[encoded data removed]",
      "text/plain": [
       "<Figure size 640x480 with 1 Axes>"
      ]
     },
     "metadata": {},
     "output_type": "display_data"
    }
   ],
   "source": [
    "idx = 3\n",
    "for mask in masks_2[idx : idx + 1]:\n",
    "    # plt.imshow(mask, alpha=0.5)  # Adjust alpha for mask transparency\n",
    "    plt.imshow(mask) \n",
    "plt.axis('off')  # Hide the axes\n",
    "plt.show()"
   ]
  },
  {
   "cell_type": "code",
   "execution_count": 73,
   "metadata": {},
   "outputs": [],
   "source": [
    "paper_mask = masks_2[0]\n",
    "foot_mask = masks_2[3]"
   ]
  },
  {
   "cell_type": "code",
   "execution_count": 74,
   "metadata": {},
   "outputs": [
    {
     "data": {
      "text/plain": [
       "array([False,  True])"
      ]
     },
     "execution_count": 74,
     "metadata": {},
     "output_type": "execute_result"
    }
   ],
   "source": [
    "np.unique(paper_mask)"
   ]
  },
  {
   "cell_type": "code",
   "execution_count": 75,
   "metadata": {},
   "outputs": [
    {
     "data": {
      "text/plain": [
       "(4032, 3024)"
      ]
     },
     "execution_count": 75,
     "metadata": {},
     "output_type": "execute_result"
    }
   ],
   "source": [
    "paper_mask.shape"
   ]
  },
  {
   "cell_type": "code",
   "execution_count": 94,
   "metadata": {},
   "outputs": [],
   "source": [
    "top_left_p = [-1, -1]\n",
    "top_right_p = [-1, -1]\n",
    "bottom_left_p = [-1, -1]\n",
    "bottom_right_p = [-1, -1]\n",
    "\n",
    "heigh, width = paper_mask.shape\n",
    "\n",
    "for yy in range(heigh):\n",
    "    for xx in range(width):\n",
    "        if not paper_mask[yy, xx]:\n",
    "            continue\n",
    "\n",
    "        if top_left_p[0] == -1:\n",
    "            top_left_p[0] = xx\n",
    "            top_left_p[1] = yy\n",
    "\n",
    "            top_right_p[0] = xx\n",
    "            top_right_p[1] = yy\n",
    "\n",
    "            bottom_left_p[0] = xx\n",
    "            bottom_left_p[1] = yy\n",
    "\n",
    "            bottom_right_p[0] = xx\n",
    "            bottom_right_p[1] = yy\n",
    "\n",
    "        if xx + yy < top_left_p[0] + top_left_p[1]:\n",
    "            top_left_p[0] = xx\n",
    "            top_left_p[1] = yy\n",
    "\n",
    "        if xx + (heigh - yy) > top_right_p[0] + (heigh - top_right_p[1]):\n",
    "            top_right_p[0] = xx\n",
    "            top_right_p[1] = yy\n",
    "\n",
    "        if width - xx + yy > (width - bottom_left_p[0]) + bottom_left_p[1]:\n",
    "            bottom_left_p[0] = xx\n",
    "            bottom_left_p[1] = yy\n",
    "\n",
    "        if xx + yy > bottom_right_p[0] + bottom_right_p[1]:\n",
    "            bottom_right_p[0] = xx\n",
    "            bottom_right_p[1] = yy"
   ]
  },
  {
   "cell_type": "code",
   "execution_count": 89,
   "metadata": {},
   "outputs": [],
   "source": [
    "# top_left_p = [top_left_p[1], top_left_p[0]]\n",
    "# top_right_p = [top_right_p[1], top_right_p[0]]\n",
    "# bottom_left_p = [bottom_left_p[1], bottom_left_p[0]]\n",
    "# bottom_right_p = [bottom_right_p[1], bottom_right_p[0]]"
   ]
  },
  {
   "cell_type": "code",
   "execution_count": 109,
   "metadata": {},
   "outputs": [],
   "source": [
    "points = np.array([top_left_p, top_right_p, bottom_right_p, bottom_left_p])\n",
    "# points = np.array([top_left_p, top_right_p])"
   ]
  },
  {
   "cell_type": "code",
   "execution_count": 110,
   "metadata": {},
   "outputs": [
    {
     "data": {
      "image/png": "[encoded data removed]",
      "text/plain": [
       "<Figure size 800x800 with 1 Axes>"
      ]
     },
     "metadata": {},
     "output_type": "display_data"
    }
   ],
   "source": [
    "# Show image\n",
    "plt.figure(figsize=(8, 8))\n",
    "plt.imshow(paper_mask)\n",
    "\n",
    "# Plot circular markers\n",
    "plt.scatter(points[:, 0], points[:, 1], \n",
    "            c=\"red\", s=80, marker=\"o\", edgecolors=\"white\", linewidths=1.5)\n",
    "\n",
    "# (Optional) Label each point\n",
    "labels = [\"Top Left\", \"Top Right\", \"Bottom Right\", \"Bottom Left\"]\n",
    "for (x, y), label in zip(points, labels):\n",
    "    plt.text(x+5, y-5, label, color=\"blue\", fontsize=10, weight=\"bold\")\n",
    "\n",
    "plt.axis(\"off\")\n",
    "plt.show()"
   ]
  },
  {
   "cell_type": "code",
   "execution_count": 104,
   "metadata": {},
   "outputs": [],
   "source": [
    "toe_p = [-1, -1]\n",
    "ankle_p = [-1, -1]\n",
    "\n",
    "heigh, width = foot_mask.shape\n",
    "\n",
    "for yy in range(heigh):\n",
    "    for xx in range(width):\n",
    "        if not foot_mask[yy, xx]:\n",
    "            continue\n",
    "\n",
    "        if toe_p[0] == -1:\n",
    "            toe_p[0] = xx\n",
    "            toe_p[1] = yy\n",
    "\n",
    "            ankle_p[0] = xx\n",
    "            ankle_p[1] = yy\n",
    "\n",
    "        if yy < toe_p[1]:\n",
    "            toe_p[0] = xx\n",
    "            toe_p[1] = yy\n",
    "\n",
    "        if xx + yy > ankle_p[0] + ankle_p[1]:\n",
    "            ankle_p[0] = xx\n",
    "            ankle_p[1] = yy"
   ]
  },
  {
   "cell_type": "code",
   "execution_count": 105,
   "metadata": {},
   "outputs": [],
   "source": [
    "points_f = np.array([toe_p, ankle_p])"
   ]
  },
  {
   "cell_type": "code",
   "execution_count": 106,
   "metadata": {},
   "outputs": [
    {
     "data": {
      "image/png": "[encoded data removed]",
      "text/plain": [
       "<Figure size 800x800 with 1 Axes>"
      ]
     },
     "metadata": {},
     "output_type": "display_data"
    }
   ],
   "source": [
    "# Show image\n",
    "plt.figure(figsize=(8, 8))\n",
    "plt.imshow(foot_mask)\n",
    "\n",
    "# Plot circular markers\n",
    "plt.scatter(points_f[:, 0], points_f[:, 1], \n",
    "            c=\"red\", s=80, marker=\"o\", edgecolors=\"white\", linewidths=1.5)\n",
    "\n",
    "# (Optional) Label each point\n",
    "labels = [\"toe\", \"ankle\"]\n",
    "for (x, y), label in zip(points_f, labels):\n",
    "    plt.text(x+5, y-5, label, color=\"blue\", fontsize=10, weight=\"bold\")\n",
    "\n",
    "plt.axis(\"off\")\n",
    "plt.show()"
   ]
  },
  {
   "cell_type": "code",
   "execution_count": 107,
   "metadata": {},
   "outputs": [],
   "source": [
    "import cv2"
   ]
  },
  {
   "cell_type": "code",
   "execution_count": 108,
   "metadata": {},
   "outputs": [],
   "source": [
    "def order_corners(pts):\n",
    "    \"\"\"Return corners as (top-left, top-right, bottom-right, bottom-left).\"\"\"\n",
    "    pts = np.asarray(pts, dtype=np.float32)\n",
    "    s = pts.sum(axis=1)\n",
    "    d = np.diff(pts, axis=1).ravel()\n",
    "    tl = pts[np.argmin(s)]\n",
    "    br = pts[np.argmax(s)]\n",
    "    tr = pts[np.argmin(d)]\n",
    "    bl = pts[np.argmax(d)]\n",
    "    return np.array([tl, tr, br, bl], dtype=np.float32)\n",
    "\n",
    "\n",
    "def foot_distance_mm(paper_corners, toe_pt, ankle_pt, paper_size_mm):\n",
    "    \"\"\"\n",
    "    paper_corners: list/array of 4 (x,y) image points (any order) on the paper corners\n",
    "    toe_pt, ankle_pt: (x,y) image points\n",
    "    paper_size_mm: (width_mm, height_mm), e.g. A4=(210, 297), Letter=(215.9, 279.4)\n",
    "    \"\"\"\n",
    "    W_mm, H_mm = paper_size_mm\n",
    "\n",
    "    # 1) Order paper corners consistently\n",
    "    src = order_corners(paper_corners)  # tl, tr, br, bl\n",
    "\n",
    "    # 2) Target plane is a rectangle in MILLIMETERS\n",
    "    dst = np.array([[0, 0],\n",
    "                    [W_mm, 0],\n",
    "                    [W_mm, H_mm],\n",
    "                    [0, H_mm]], dtype=np.float32)\n",
    "\n",
    "    # 3) Homography from image -> metric (mm) plane\n",
    "    H, _ = cv2.findHomography(src, dst, method=0)\n",
    "\n",
    "    # 4) Transform toe/ankle into metric plane (units: mm)\n",
    "    pts = np.array([[toe_pt, ankle_pt]], dtype=np.float32)  # shape (1,2,2)\n",
    "    pts_mm = cv2.perspectiveTransform(pts, H)[0]            # shape (2,2)\n",
    "\n",
    "    toe_mm, ankle_mm = pts_mm[0], pts_mm[1]\n",
    "    dist_mm = float(np.linalg.norm(toe_mm - ankle_mm))\n",
    "    return dist_mm, toe_mm, ankle_mm\n"
   ]
  },
  {
   "cell_type": "code",
   "execution_count": 111,
   "metadata": {},
   "outputs": [
    {
     "name": "stdout",
     "output_type": "stream",
     "text": [
      "Toe–ankle distance: 270.9 mm (27.09 cm)\n"
     ]
    }
   ],
   "source": [
    "# ----------------- EXAMPLE USAGE -----------------\n",
    "\n",
    "# Replace these with your actual detections (image pixel coordinates)\n",
    "paper_corners = points\n",
    "\n",
    "toe_pt   = toe_p\n",
    "ankle_pt = ankle_p\n",
    "\n",
    "# Choose paper size:\n",
    "A4_MM      = (210.0, 297.0)\n",
    "LETTER_MM  = (215.9, 279.4)  # 8.5 x 11 inches\n",
    "\n",
    "dist_mm, toe_mm, ankle_mm = foot_distance_mm(\n",
    "    paper_corners, toe_pt, ankle_pt, paper_size_mm=LETTER_MM  # or A4_MM\n",
    ")\n",
    "\n",
    "print(f\"Toe–ankle distance: {dist_mm:.1f} mm ({dist_mm/10:.2f} cm)\")"
   ]
  },
  {
   "cell_type": "code",
   "execution_count": 112,
   "metadata": {},
   "outputs": [],
   "source": [
    "# Mondopoint (cm) reference to EU/US/UK - adults (approx.)\n",
    "# MEN\n",
    "MEN_TABLE = {\n",
    "    24.5: {\"EU\": 39,   \"US\": 6.5, \"UK\": 6},\n",
    "    25.0: {\"EU\": 40,   \"US\": 7.0, \"UK\": 6.5},\n",
    "    25.5: {\"EU\": 40.5, \"US\": 7.5, \"UK\": 7},\n",
    "    26.0: {\"EU\": 41,   \"US\": 8.0, \"UK\": 7.5},\n",
    "    26.5: {\"EU\": 42,   \"US\": 8.5, \"UK\": 8},\n",
    "    27.0: {\"EU\": 42.5, \"US\": 9.0, \"UK\": 8.5},\n",
    "    27.5: {\"EU\": 43,   \"US\": 9.5, \"UK\": 9},\n",
    "    28.0: {\"EU\": 44,   \"US\":10.0, \"UK\": 9.5},\n",
    "    28.5: {\"EU\": 44.5, \"US\":10.5, \"UK\":10},\n",
    "    29.0: {\"EU\": 45,   \"US\":11.0, \"UK\":10.5},\n",
    "    29.5: {\"EU\": 46,   \"US\":11.5, \"UK\":11},\n",
    "    30.0: {\"EU\": 46.5, \"US\":12.0, \"UK\":11.5},\n",
    "}\n",
    "\n",
    "# WOMEN\n",
    "WOMEN_TABLE = {\n",
    "    22.0: {\"EU\": 35,   \"US\": 5.0, \"UK\": 2.5},\n",
    "    22.5: {\"EU\": 35.5, \"US\": 5.5, \"UK\": 3.0},\n",
    "    23.0: {\"EU\": 36,   \"US\": 6.0, \"UK\": 3.5},\n",
    "    23.5: {\"EU\": 37,   \"US\": 6.5, \"UK\": 4.0},\n",
    "    24.0: {\"EU\": 37.5, \"US\": 7.0, \"UK\": 4.5},\n",
    "    24.5: {\"EU\": 38,   \"US\": 7.5, \"UK\": 5.0},\n",
    "    25.0: {\"EU\": 39,   \"US\": 8.0, \"UK\": 5.5},\n",
    "    25.5: {\"EU\": 39.5, \"US\": 8.5, \"UK\": 6.0},\n",
    "    26.0: {\"EU\": 40,   \"US\": 9.0, \"UK\": 6.5},\n",
    "    26.5: {\"EU\": 41,   \"US\": 9.5, \"UK\": 7.0},\n",
    "    27.0: {\"EU\": 42,   \"US\":10.0, \"UK\": 7.5},\n",
    "}"
   ]
  },
  {
   "cell_type": "code",
   "execution_count": null,
   "metadata": {},
   "outputs": [],
   "source": []
  }
 ],
 "metadata": {
  "kernelspec": {
   "display_name": "cv2",
   "language": "python",
   "name": "python3"
  },
  "language_info": {
   "codemirror_mode": {
    "name": "ipython",
    "version": 3
   },
   "file_extension": ".py",
   "mimetype": "text/x-python",
   "name": "python",
   "nbconvert_exporter": "python",
   "pygments_lexer": "ipython3",
   "version": "3.12.7"
  },
  "orig_nbformat": 4
 },
 "nbformat": 4,
 "nbformat_minor": 2
}
