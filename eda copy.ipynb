{
 "cells": [
  {
   "cell_type": "code",
   "execution_count": 1,
   "metadata": {},
   "outputs": [],
   "source": [
    "from ultralytics import ASSETS, SAM, YOLO, FastSAM"
   ]
  },
  {
   "cell_type": "code",
   "execution_count": 2,
   "metadata": {},
   "outputs": [],
   "source": [
    "import numpy as np\n",
    "import matplotlib.pyplot as plt\n",
    "import matplotlib.colors as mcolors"
   ]
  },
  {
   "cell_type": "code",
   "execution_count": 3,
   "metadata": {},
   "outputs": [],
   "source": [
    "# Load a model\n",
    "# model = SAM(\"sam2.1_t.pt\")\n",
    "# model = SAM(\"sam2.1_b.pt\")\n",
    "model = FastSAM(\"FastSAM-s.pt\")\n"
   ]
  },
  {
   "cell_type": "code",
   "execution_count": 4,
   "metadata": {},
   "outputs": [
    {
     "name": "stdout",
     "output_type": "stream",
     "text": [
      "YOLOv8s-seg summary: 261 layers, 11,790,483 parameters, 0 gradients, 42.7 GFLOPs\n",
      "\n",
      "image 1/2 /home/nick/anaconda3/envs/nnunet/lib/python3.12/site-packages/ultralytics/assets/bus.jpg: 640x480 94 objects, 80.9ms\n",
      "image 2/2 /home/nick/anaconda3/envs/nnunet/lib/python3.12/site-packages/ultralytics/assets/zidane.jpg: 384x640 21 objects, 46.1ms\n",
      "Speed: 1.4ms preprocess, 63.5ms inference, 119.1ms postprocess per image at shape (1, 3, 384, 640)\n"
     ]
    },
    {
     "data": {
      "text/plain": [
       "[ultralytics.engine.results.Results object with attributes:\n",
       " \n",
       " boxes: ultralytics.engine.results.Boxes object\n",
       " keypoints: None\n",
       " masks: ultralytics.engine.results.Masks object\n",
       " names: {0: 'object'}\n",
       " obb: None\n",
       " orig_img: array([[[119, 146, 172],\n",
       "         [121, 148, 174],\n",
       "         [122, 152, 177],\n",
       "         ...,\n",
       "         [161, 171, 188],\n",
       "         [160, 170, 187],\n",
       "         [160, 170, 187]],\n",
       " \n",
       "        [[120, 147, 173],\n",
       "         [122, 149, 175],\n",
       "         [123, 153, 178],\n",
       "         ...,\n",
       "         [161, 171, 188],\n",
       "         [160, 170, 187],\n",
       "         [160, 170, 187]],\n",
       " \n",
       "        [[123, 150, 176],\n",
       "         [124, 151, 177],\n",
       "         [125, 155, 180],\n",
       "         ...,\n",
       "         [161, 171, 188],\n",
       "         [160, 170, 187],\n",
       "         [160, 170, 187]],\n",
       " \n",
       "        ...,\n",
       " \n",
       "        [[183, 182, 186],\n",
       "         [179, 178, 182],\n",
       "         [180, 179, 183],\n",
       "         ...,\n",
       "         [121, 111, 117],\n",
       "         [113, 103, 109],\n",
       "         [115, 105, 111]],\n",
       " \n",
       "        [[165, 164, 168],\n",
       "         [173, 172, 176],\n",
       "         [187, 186, 190],\n",
       "         ...,\n",
       "         [102,  92,  98],\n",
       "         [101,  91,  97],\n",
       "         [103,  93,  99]],\n",
       " \n",
       "        [[123, 122, 126],\n",
       "         [145, 144, 148],\n",
       "         [176, 175, 179],\n",
       "         ...,\n",
       "         [ 95,  85,  91],\n",
       "         [ 96,  86,  92],\n",
       "         [ 98,  88,  94]]], dtype=uint8)\n",
       " orig_shape: (1080, 810)\n",
       " path: '/home/nick/anaconda3/envs/nnunet/lib/python3.12/site-packages/ultralytics/assets/bus.jpg'\n",
       " probs: None\n",
       " save_dir: 'runs/segment/predict'\n",
       " speed: {'preprocess': 1.5263557434082031, 'inference': 80.88231086730957, 'postprocess': 236.5889549255371},\n",
       " ultralytics.engine.results.Results object with attributes:\n",
       " \n",
       " boxes: ultralytics.engine.results.Boxes object\n",
       " keypoints: None\n",
       " masks: ultralytics.engine.results.Masks object\n",
       " names: {0: 'object'}\n",
       " obb: None\n",
       " orig_img: array([[[44, 51, 76],\n",
       "         [43, 50, 75],\n",
       "         [41, 48, 73],\n",
       "         ...,\n",
       "         [20, 18, 54],\n",
       "         [18, 16, 52],\n",
       "         [17, 15, 51]],\n",
       " \n",
       "        [[44, 51, 76],\n",
       "         [43, 50, 75],\n",
       "         [41, 48, 73],\n",
       "         ...,\n",
       "         [20, 18, 54],\n",
       "         [18, 16, 52],\n",
       "         [18, 16, 52]],\n",
       " \n",
       "        [[44, 51, 76],\n",
       "         [43, 50, 75],\n",
       "         [41, 48, 73],\n",
       "         ...,\n",
       "         [21, 18, 57],\n",
       "         [19, 16, 55],\n",
       "         [18, 15, 54]],\n",
       " \n",
       "        ...,\n",
       " \n",
       "        [[53, 44, 40],\n",
       "         [52, 43, 39],\n",
       "         [51, 42, 38],\n",
       "         ...,\n",
       "         [50, 50, 38],\n",
       "         [51, 51, 39],\n",
       "         [52, 52, 40]],\n",
       " \n",
       "        [[53, 44, 40],\n",
       "         [52, 43, 39],\n",
       "         [51, 42, 38],\n",
       "         ...,\n",
       "         [50, 50, 38],\n",
       "         [51, 51, 39],\n",
       "         [52, 52, 40]],\n",
       " \n",
       "        [[53, 44, 40],\n",
       "         [52, 43, 39],\n",
       "         [51, 42, 38],\n",
       "         ...,\n",
       "         [49, 49, 37],\n",
       "         [51, 51, 39],\n",
       "         [52, 52, 40]]], dtype=uint8)\n",
       " orig_shape: (720, 1280)\n",
       " path: '/home/nick/anaconda3/envs/nnunet/lib/python3.12/site-packages/ultralytics/assets/zidane.jpg'\n",
       " probs: None\n",
       " save_dir: 'runs/segment/predict'\n",
       " speed: {'preprocess': 1.2247562408447266, 'inference': 46.08964920043945, 'postprocess': 1.5418529510498047}]"
      ]
     },
     "execution_count": 4,
     "metadata": {},
     "output_type": "execute_result"
    }
   ],
   "source": [
    "model.info()\n",
    "model(ASSETS)"
   ]
  },
  {
   "cell_type": "code",
   "execution_count": 64,
   "metadata": {},
   "outputs": [
    {
     "name": "stdout",
     "output_type": "stream",
     "text": [
      "\n",
      "image 1/1 /home/nick/Projects/foot_size_estm/foot_size_estm/IMG_7350.jpg: 2048x1536 1 object, 36.4ms\n",
      "Speed: 24.4ms preprocess, 36.4ms inference, 7.8ms postprocess per image at shape (1, 3, 2048, 1536)\n"
     ]
    }
   ],
   "source": [
    "# Run inference with bboxes prompt\n",
    "# results = model(\"./foot_size_estm/IMG_7350.jpg\", bboxes=[100, 100, 200, 200])\n",
    "\n",
    "# # Run inference with single point\n",
    "# results = model(points=[900, 370], labels=[1])\n",
    "\n",
    "# # Run inference with multiple points\n",
    "# results = model(points=[[400, 370], [900, 370]], labels=[1, 1])\n",
    "\n",
    "# # Run inference with multiple points prompt per object\n",
    "# results = model(\"./foot_size_estm/IMG_7350.jpg\", points=[[[1683, 1430], [178, 1906], [2755, 1989]]], labels=[[2, 1, 1]])\n",
    "results = model(\"./foot_size_estm/IMG_7350.jpg\", points=[[1683, 1530]], labels=[[1]], imgsz=1024)\n",
    "# results = model(\"./foot_size_estm/IMG_7350.jpg\", points=[[[178, 1906], [2755, 1989]]], labels=[[1, 1]])\n",
    "\n",
    "# # Run inference with negative points prompt\n",
    "# results = model(points=[[[400, 370], [900, 370]]], labels=[[1, 0]])"
   ]
  },
  {
   "cell_type": "code",
   "execution_count": 65,
   "metadata": {},
   "outputs": [
    {
     "data": {
      "text/plain": [
       "torch.Size([1, 2048, 1536])"
      ]
     },
     "execution_count": 65,
     "metadata": {},
     "output_type": "execute_result"
    }
   ],
   "source": [
    "results[0].masks.data.shape"
   ]
  },
  {
   "cell_type": "code",
   "execution_count": 66,
   "metadata": {},
   "outputs": [],
   "source": [
    "# results = model(\"./foot_size_estm/IMG_7350.jpg\")"
   ]
  },
  {
   "cell_type": "code",
   "execution_count": 67,
   "metadata": {},
   "outputs": [
    {
     "data": {
      "text/plain": [
       "[ultralytics.engine.results.Results object with attributes:\n",
       " \n",
       " boxes: ultralytics.engine.results.Boxes object\n",
       " keypoints: None\n",
       " masks: ultralytics.engine.results.Masks object\n",
       " names: {0: 'object'}\n",
       " obb: None\n",
       " orig_img: array([[[ 60,  76,  93],\n",
       "         [ 59,  75,  92],\n",
       "         [ 61,  77,  94],\n",
       "         ...,\n",
       "         [ 59,  76,  89],\n",
       "         [ 63,  80,  93],\n",
       "         [ 63,  80,  93]],\n",
       " \n",
       "        [[ 56,  72,  89],\n",
       "         [ 55,  71,  88],\n",
       "         [ 58,  74,  91],\n",
       "         ...,\n",
       "         [ 61,  78,  91],\n",
       "         [ 63,  80,  93],\n",
       "         [ 63,  80,  93]],\n",
       " \n",
       "        [[ 55,  71,  88],\n",
       "         [ 54,  70,  87],\n",
       "         [ 57,  73,  90],\n",
       "         ...,\n",
       "         [ 59,  76,  89],\n",
       "         [ 63,  80,  93],\n",
       "         [ 67,  84,  97]],\n",
       " \n",
       "        ...,\n",
       " \n",
       "        [[179, 190, 194],\n",
       "         [180, 191, 195],\n",
       "         [182, 193, 197],\n",
       "         ...,\n",
       "         [ 97, 112, 121],\n",
       "         [ 96, 111, 120],\n",
       "         [100, 115, 124]],\n",
       " \n",
       "        [[181, 192, 196],\n",
       "         [185, 196, 200],\n",
       "         [187, 198, 202],\n",
       "         ...,\n",
       "         [ 95, 110, 119],\n",
       "         [100, 115, 124],\n",
       "         [104, 119, 128]],\n",
       " \n",
       "        [[187, 198, 202],\n",
       "         [191, 202, 206],\n",
       "         [190, 201, 205],\n",
       "         ...,\n",
       "         [ 97, 112, 121],\n",
       "         [103, 118, 127],\n",
       "         [106, 121, 130]]], dtype=uint8)\n",
       " orig_shape: (4032, 3024)\n",
       " path: '/home/nick/Projects/foot_size_estm/foot_size_estm/IMG_7350.jpg'\n",
       " probs: None\n",
       " save_dir: 'runs/segment/predict'\n",
       " speed: {'preprocess': 24.381160736083984, 'inference': 36.38744354248047, 'postprocess': 7.802724838256836}]"
      ]
     },
     "execution_count": 67,
     "metadata": {},
     "output_type": "execute_result"
    }
   ],
   "source": [
    "results"
   ]
  },
  {
   "cell_type": "code",
   "execution_count": 68,
   "metadata": {},
   "outputs": [
    {
     "data": {
      "image/png": "[encoded data removed]",
      "text/plain": [
       "<Figure size 640x480 with 1 Axes>"
      ]
     },
     "metadata": {},
     "output_type": "display_data"
    }
   ],
   "source": [
    "# Get the original image as a numpy array\n",
    "img = np.array(results[0].orig_img)\n",
    "\n",
    "# Get the segmentation masks\n",
    "masks = results[0].masks.data\n",
    "\n",
    "masks = masks.cpu().numpy() \n",
    "\n",
    "# masks= masks[0]\n",
    "\n",
    "# plt.imshow(masks)\n",
    "\n",
    "# Plot the image and overlay the masks\n",
    "# plt.imshow(img)\n",
    "\n",
    "# num_masks = masks.shape[0]\n",
    "# colors = np.random.rand(num_masks, 3)  # RGB values between 0-1\n",
    "\n",
    "# for i, mask in enumerate(masks):\n",
    "#     colored_mask = np.zeros_like(img, dtype=np.float32)\n",
    "#     for c in range(3):  # Apply same mask to R,G,B with chosen color\n",
    "#         colored_mask[:, :, c] = mask * colors[i, c]\n",
    "\n",
    "#     plt.imshow(colored_mask)  # Adjust alpha for transparency\n",
    "\n",
    "idx = 0\n",
    "for mask in masks[idx : idx + 1]:\n",
    "    # plt.imshow(mask, alpha=0.5)  # Adjust alpha for mask transparency\n",
    "    plt.imshow(mask) \n",
    "plt.axis('off')  # Hide the axes\n",
    "plt.show()\n",
    "# plt.imsave(\"seg.png\")"
   ]
  },
  {
   "cell_type": "code",
   "execution_count": 69,
   "metadata": {},
   "outputs": [
    {
     "data": {
      "image/png": "[encoded data removed]",
      "text/plain": [
       "<Figure size 640x480 with 1 Axes>"
      ]
     },
     "metadata": {},
     "output_type": "display_data"
    }
   ],
   "source": [
    "idx = 2\n",
    "for mask in masks[idx : idx + 1]:\n",
    "    # plt.imshow(mask, alpha=0.5)  # Adjust alpha for mask transparency\n",
    "    plt.imshow(mask) \n",
    "plt.axis('off')  # Hide the axes\n",
    "plt.show()"
   ]
  },
  {
   "cell_type": "code",
   "execution_count": 70,
   "metadata": {},
   "outputs": [],
   "source": [
    "masks = results[0].masks.data"
   ]
  },
  {
   "cell_type": "code",
   "execution_count": 71,
   "metadata": {},
   "outputs": [
    {
     "ename": "TypeError",
     "evalue": "can't convert cuda:0 device type tensor to numpy. Use Tensor.cpu() to copy the tensor to host memory first.",
     "output_type": "error",
     "traceback": [
      "\u001b[0;31m---------------------------------------------------------------------------\u001b[0m",
      "\u001b[0;31mTypeError\u001b[0m                                 Traceback (most recent call last)",
      "Cell \u001b[0;32mIn[71], line 1\u001b[0m\n\u001b[0;32m----> 1\u001b[0m masks\u001b[39m=\u001b[39m np\u001b[39m.\u001b[39;49marray(masks[\u001b[39m0\u001b[39;49m])\n",
      "File \u001b[0;32m~/anaconda3/envs/nnunet/lib/python3.12/site-packages/torch/_tensor.py:1149\u001b[0m, in \u001b[0;36mTensor.__array__\u001b[0;34m(self, dtype)\u001b[0m\n\u001b[1;32m   1147\u001b[0m     \u001b[39mreturn\u001b[39;00m handle_torch_function(Tensor\u001b[39m.\u001b[39m__array__, (\u001b[39mself\u001b[39m,), \u001b[39mself\u001b[39m, dtype\u001b[39m=\u001b[39mdtype)\n\u001b[1;32m   1148\u001b[0m \u001b[39mif\u001b[39;00m dtype \u001b[39mis\u001b[39;00m \u001b[39mNone\u001b[39;00m:\n\u001b[0;32m-> 1149\u001b[0m     \u001b[39mreturn\u001b[39;00m \u001b[39mself\u001b[39;49m\u001b[39m.\u001b[39;49mnumpy()\n\u001b[1;32m   1150\u001b[0m \u001b[39melse\u001b[39;00m:\n\u001b[1;32m   1151\u001b[0m     \u001b[39mreturn\u001b[39;00m \u001b[39mself\u001b[39m\u001b[39m.\u001b[39mnumpy()\u001b[39m.\u001b[39mastype(dtype, copy\u001b[39m=\u001b[39m\u001b[39mFalse\u001b[39;00m)\n",
      "\u001b[0;31mTypeError\u001b[0m: can't convert cuda:0 device type tensor to numpy. Use Tensor.cpu() to copy the tensor to host memory first."
     ]
    }
   ],
   "source": [
    "masks= np.array(masks[0])"
   ]
  },
  {
   "cell_type": "code",
   "execution_count": 72,
   "metadata": {},
   "outputs": [
    {
     "data": {
      "text/plain": [
       "torch.Size([1, 2048, 1536])"
      ]
     },
     "execution_count": 72,
     "metadata": {},
     "output_type": "execute_result"
    }
   ],
   "source": [
    "masks.shape"
   ]
  },
  {
   "cell_type": "code",
   "execution_count": 73,
   "metadata": {},
   "outputs": [
    {
     "name": "stderr",
     "output_type": "stream",
     "text": [
      "Error: no \"view\" rule for type \"image/png\" passed its test case\n",
      "       (for more information, add \"--debug=1\" on the command line)\n"
     ]
    }
   ],
   "source": [
    "results[0].show()"
   ]
  },
  {
   "cell_type": "code",
   "execution_count": 74,
   "metadata": {},
   "outputs": [
    {
     "ename": "ValueError",
     "evalue": "The truth value of an array with more than one element is ambiguous. Use a.any() or a.all()",
     "output_type": "error",
     "traceback": [
      "\u001b[0;31m---------------------------------------------------------------------------\u001b[0m",
      "\u001b[0;31mValueError\u001b[0m                                Traceback (most recent call last)",
      "Cell \u001b[0;32mIn[74], line 1\u001b[0m\n\u001b[0;32m----> 1\u001b[0m results_2 \u001b[39m=\u001b[39m model(\u001b[39m\"\u001b[39;49m\u001b[39m./foot_size_estm/IMG_7350.jpg\u001b[39;49m\u001b[39m\"\u001b[39;49m, img, imgsz\u001b[39m=\u001b[39;49m\u001b[39m1024\u001b[39;49m)\n",
      "File \u001b[0;32m~/anaconda3/envs/nnunet/lib/python3.12/site-packages/ultralytics/engine/model.py:180\u001b[0m, in \u001b[0;36mModel.__call__\u001b[0;34m(self, source, stream, **kwargs)\u001b[0m\n\u001b[1;32m    151\u001b[0m \u001b[39mdef\u001b[39;00m \u001b[39m__call__\u001b[39m(\n\u001b[1;32m    152\u001b[0m     \u001b[39mself\u001b[39m,\n\u001b[1;32m    153\u001b[0m     source: Union[\u001b[39mstr\u001b[39m, Path, \u001b[39mint\u001b[39m, Image\u001b[39m.\u001b[39mImage, \u001b[39mlist\u001b[39m, \u001b[39mtuple\u001b[39m, np\u001b[39m.\u001b[39mndarray, torch\u001b[39m.\u001b[39mTensor] \u001b[39m=\u001b[39m \u001b[39mNone\u001b[39;00m,\n\u001b[1;32m    154\u001b[0m     stream: \u001b[39mbool\u001b[39m \u001b[39m=\u001b[39m \u001b[39mFalse\u001b[39;00m,\n\u001b[1;32m    155\u001b[0m     \u001b[39m*\u001b[39m\u001b[39m*\u001b[39mkwargs: Any,\n\u001b[1;32m    156\u001b[0m ) \u001b[39m-\u001b[39m\u001b[39m>\u001b[39m \u001b[39mlist\u001b[39m:\n\u001b[1;32m    157\u001b[0m \u001b[39m    \u001b[39m\u001b[39m\"\"\"\u001b[39;00m\n\u001b[1;32m    158\u001b[0m \u001b[39m    Alias for the predict method, enabling the model instance to be callable for predictions.\u001b[39;00m\n\u001b[1;32m    159\u001b[0m \n\u001b[0;32m   (...)\u001b[0m\n\u001b[1;32m    178\u001b[0m \u001b[39m        ...     print(f\"Detected {len(r)} objects in image\")\u001b[39;00m\n\u001b[1;32m    179\u001b[0m \u001b[39m    \"\"\"\u001b[39;00m\n\u001b[0;32m--> 180\u001b[0m     \u001b[39mreturn\u001b[39;00m \u001b[39mself\u001b[39;49m\u001b[39m.\u001b[39;49mpredict(source, stream, \u001b[39m*\u001b[39;49m\u001b[39m*\u001b[39;49mkwargs)\n",
      "File \u001b[0;32m~/anaconda3/envs/nnunet/lib/python3.12/site-packages/ultralytics/models/fastsam/model.py:50\u001b[0m, in \u001b[0;36mFastSAM.predict\u001b[0;34m(self, source, stream, bboxes, points, labels, texts, **kwargs)\u001b[0m\n\u001b[1;32m     32\u001b[0m \u001b[39m\u001b[39m\u001b[39m\"\"\"\u001b[39;00m\n\u001b[1;32m     33\u001b[0m \u001b[39mPerform segmentation prediction on image or video source.\u001b[39;00m\n\u001b[1;32m     34\u001b[0m \n\u001b[0;32m   (...)\u001b[0m\n\u001b[1;32m     47\u001b[0m \u001b[39m    (list): Model predictions.\u001b[39;00m\n\u001b[1;32m     48\u001b[0m \u001b[39m\"\"\"\u001b[39;00m\n\u001b[1;32m     49\u001b[0m prompts \u001b[39m=\u001b[39m \u001b[39mdict\u001b[39m(bboxes\u001b[39m=\u001b[39mbboxes, points\u001b[39m=\u001b[39mpoints, labels\u001b[39m=\u001b[39mlabels, texts\u001b[39m=\u001b[39mtexts)\n\u001b[0;32m---> 50\u001b[0m \u001b[39mreturn\u001b[39;00m \u001b[39msuper\u001b[39;49m()\u001b[39m.\u001b[39;49mpredict(source, stream, prompts\u001b[39m=\u001b[39;49mprompts, \u001b[39m*\u001b[39;49m\u001b[39m*\u001b[39;49mkwargs)\n",
      "File \u001b[0;32m~/anaconda3/envs/nnunet/lib/python3.12/site-packages/ultralytics/engine/model.py:558\u001b[0m, in \u001b[0;36mModel.predict\u001b[0;34m(self, source, stream, predictor, **kwargs)\u001b[0m\n\u001b[1;32m    556\u001b[0m \u001b[39mif\u001b[39;00m prompts \u001b[39mand\u001b[39;00m \u001b[39mhasattr\u001b[39m(\u001b[39mself\u001b[39m\u001b[39m.\u001b[39mpredictor, \u001b[39m\"\u001b[39m\u001b[39mset_prompts\u001b[39m\u001b[39m\"\u001b[39m):  \u001b[39m# for SAM-type models\u001b[39;00m\n\u001b[1;32m    557\u001b[0m     \u001b[39mself\u001b[39m\u001b[39m.\u001b[39mpredictor\u001b[39m.\u001b[39mset_prompts(prompts)\n\u001b[0;32m--> 558\u001b[0m \u001b[39mreturn\u001b[39;00m \u001b[39mself\u001b[39m\u001b[39m.\u001b[39mpredictor\u001b[39m.\u001b[39mpredict_cli(source\u001b[39m=\u001b[39msource) \u001b[39mif\u001b[39;00m is_cli \u001b[39melse\u001b[39;00m \u001b[39mself\u001b[39;49m\u001b[39m.\u001b[39;49mpredictor(source\u001b[39m=\u001b[39;49msource, stream\u001b[39m=\u001b[39;49mstream)\n",
      "File \u001b[0;32m~/anaconda3/envs/nnunet/lib/python3.12/site-packages/ultralytics/engine/predictor.py:170\u001b[0m, in \u001b[0;36mBasePredictor.__call__\u001b[0;34m(self, source, model, stream, *args, **kwargs)\u001b[0m\n\u001b[1;32m    168\u001b[0m \u001b[39m\u001b[39m\u001b[39m\"\"\"Performs inference on an image or stream.\"\"\"\u001b[39;00m\n\u001b[1;32m    169\u001b[0m \u001b[39mself\u001b[39m\u001b[39m.\u001b[39mstream \u001b[39m=\u001b[39m stream\n\u001b[0;32m--> 170\u001b[0m \u001b[39mif\u001b[39;00m stream:\n\u001b[1;32m    171\u001b[0m     \u001b[39mreturn\u001b[39;00m \u001b[39mself\u001b[39m\u001b[39m.\u001b[39mstream_inference(source, model, \u001b[39m*\u001b[39margs, \u001b[39m*\u001b[39m\u001b[39m*\u001b[39mkwargs)\n\u001b[1;32m    172\u001b[0m \u001b[39melse\u001b[39;00m:\n",
      "\u001b[0;31mValueError\u001b[0m: The truth value of an array with more than one element is ambiguous. Use a.any() or a.all()"
     ]
    }
   ],
   "source": [
    "results_2 = model(\"./foot_size_estm/IMG_7350.jpg\", img, imgsz=1024)"
   ]
  },
  {
   "cell_type": "code",
   "execution_count": 75,
   "metadata": {},
   "outputs": [
    {
     "name": "stdout",
     "output_type": "stream",
     "text": [
      "(16, 640, 480)\n"
     ]
    },
    {
     "data": {
      "image/png": "[encoded data removed]",
      "text/plain": [
       "<Figure size 640x480 with 1 Axes>"
      ]
     },
     "metadata": {},
     "output_type": "display_data"
    }
   ],
   "source": [
    "# Get the original image as a numpy array\n",
    "img_2 = np.array(results_2[0].orig_img)\n",
    "\n",
    "# Get the segmentation masks\n",
    "masks_2 = results_2[0].masks.data\n",
    "\n",
    "masks_2 = masks_2.cpu().numpy() \n",
    "\n",
    "print(masks_2.shape)\n",
    "\n",
    "# masks= masks[0]\n",
    "\n",
    "# plt.imshow(masks)\n",
    "\n",
    "# Plot the image and overlay the masks\n",
    "# plt.imshow(img)\n",
    "\n",
    "# num_masks = masks.shape[0]\n",
    "# colors = np.random.rand(num_masks, 3)  # RGB values between 0-1\n",
    "\n",
    "# for i, mask in enumerate(masks):\n",
    "#     colored_mask = np.zeros_like(img, dtype=np.float32)\n",
    "#     for c in range(3):  # Apply same mask to R,G,B with chosen color\n",
    "#         colored_mask[:, :, c] = mask * colors[i, c]\n",
    "\n",
    "#     plt.imshow(colored_mask)  # Adjust alpha for transparency\n",
    "\n",
    "idx = 2\n",
    "for mask in masks_2[idx : idx + 1]:\n",
    "    # plt.imshow(mask, alpha=0.5)  # Adjust alpha for mask transparency\n",
    "    plt.imshow(mask) \n",
    "plt.axis('off')  # Hide the axes\n",
    "plt.show()\n",
    "# plt.imsave(\"seg.png\")"
   ]
  },
  {
   "cell_type": "code",
   "execution_count": 76,
   "metadata": {},
   "outputs": [
    {
     "data": {
      "image/png": "[encoded data removed]",
      "text/plain": [
       "<Figure size 640x480 with 1 Axes>"
      ]
     },
     "metadata": {},
     "output_type": "display_data"
    }
   ],
   "source": [
    "idx = 6\n",
    "for mask in masks_2[idx : idx + 1]:\n",
    "    # plt.imshow(mask, alpha=0.5)  # Adjust alpha for mask transparency\n",
    "    plt.imshow(mask) \n",
    "plt.axis('off')  # Hide the axes\n",
    "plt.show()"
   ]
  },
  {
   "cell_type": "code",
   "execution_count": 86,
   "metadata": {},
   "outputs": [],
   "source": [
    "import cv2\n",
    "\n",
    "def maks_opening(mask_init, it_num):\n",
    "    \"\"\"Applies morphological operation opening(erosion->dilation)\"\"\"\n",
    "\n",
    "    # mask is your binary array (0/1 or 0/255)\n",
    "    mask = mask_init.astype(np.uint8) * 255  # OpenCV prefers 0/255\n",
    "\n",
    "    # Create a structuring element (3x3 square kernel here)\n",
    "    kern_size = 1 + it_num * 2\n",
    "    kernel = cv2.getStructuringElement(cv2.MORPH_RECT, (kern_size, kern_size))\n",
    "\n",
    "    # Opening = erosion followed by dilation (removes small blobs)\n",
    "    mask_opened = cv2.morphologyEx(mask, cv2.MORPH_OPEN, kernel)\n",
    "\n",
    "    # # Closing = dilation followed by erosion (fills small holes)\n",
    "    # mask_clean = cv2.morphologyEx(mask_opened, cv2.MORPH_CLOSE, kernel)\n",
    "\n",
    "    # Convert back to 0/1\n",
    "    mask_opened = (mask_opened > 0).astype(np.uint8)\n",
    "\n",
    "    return mask_opened"
   ]
  },
  {
   "cell_type": "code",
   "execution_count": 87,
   "metadata": {},
   "outputs": [
    {
     "name": "stdout",
     "output_type": "stream",
     "text": [
      "\n",
      "image 1/1 /home/nick/Projects/foot_size_estm/foot_size_estm/IMG_7350.jpg: 1024x768 2 objects, 7.8ms\n",
      "Speed: 11.1ms preprocess, 7.8ms inference, 6.8ms postprocess per image at shape (1, 3, 1024, 768)\n",
      "\n",
      "image 1/1 /home/nick/Projects/foot_size_estm/foot_size_estm/IMG_7350.jpg: 1024x768 2 objects, 7.5ms\n",
      "Speed: 4.0ms preprocess, 7.5ms inference, 6.7ms postprocess per image at shape (1, 3, 1024, 768)\n",
      "\n",
      "image 1/1 /home/nick/Projects/foot_size_estm/foot_size_estm/IMG_7350.jpg: 1024x768 3 objects, 7.5ms\n",
      "Speed: 4.0ms preprocess, 7.5ms inference, 6.7ms postprocess per image at shape (1, 3, 1024, 768)\n",
      "(1024, 768)\n",
      "(1024, 768)\n",
      "[          0           1]\n"
     ]
    }
   ],
   "source": [
    "# paper_mask = masks_2[2]\n",
    "# foot_mask = masks_2[3]\n",
    "\n",
    "img_path = \"./foot_size_estm/IMG_7350.jpg\"\n",
    "\n",
    "results_foot = model(img_path, points=[[1683, 1530]], labels=[[1]], imgsz=1024)\n",
    "results_paper_1 = model(img_path, points=[[178, 1906]],\n",
    "                      labels=[[1]], imgsz=1024)\n",
    "results_paper = model(img_path, points=[[2755, 1989]],\n",
    "                      labels=[[1]], imgsz=1024)\n",
    "\n",
    "# results_paper[results_paper_1] = True\n",
    "\n",
    "# results_paper = model(img_path, points=[[178, 1906], [2755, 1989]],\n",
    "#                         labels=[[1, 1]], imgsz=1024)\n",
    "# print(type(results))\n",
    "\n",
    "# should be picked by some reference points (e.g. colour for paper or\n",
    "# position for feet)\n",
    "img_orig = np.array(results_paper[0].orig_img)\n",
    "masks = results_paper[0].masks.data\n",
    "masks = masks.cpu().numpy()\n",
    "paper_mask = masks[0]\n",
    "\n",
    "masks_1 = results_paper_1[0].masks.data\n",
    "masks_1 = masks_1.cpu().numpy()\n",
    "paper_mask_1 = masks_1[0]\n",
    "\n",
    "print(paper_mask.shape)\n",
    "print(paper_mask_1.shape)\n",
    "print(np.unique(paper_mask_1))\n",
    "\n",
    "paper_mask[paper_mask_1==1] = 1\n",
    "\n",
    "masks = results_foot[0].masks.data\n",
    "masks = masks.cpu().numpy()\n",
    "foot_mask = masks[0]\n",
    "\n",
    "foot_mask = maks_opening(foot_mask, it_num=3)\n",
    "paper_mask = maks_opening(paper_mask, it_num=3)"
   ]
  },
  {
   "cell_type": "code",
   "execution_count": 88,
   "metadata": {},
   "outputs": [
    {
     "data": {
      "text/plain": [
       "array([0, 1], dtype=uint8)"
      ]
     },
     "execution_count": 88,
     "metadata": {},
     "output_type": "execute_result"
    }
   ],
   "source": [
    "np.unique(paper_mask)"
   ]
  },
  {
   "cell_type": "code",
   "execution_count": 89,
   "metadata": {},
   "outputs": [
    {
     "data": {
      "text/plain": [
       "(1024, 768)"
      ]
     },
     "execution_count": 89,
     "metadata": {},
     "output_type": "execute_result"
    }
   ],
   "source": [
    "paper_mask.shape"
   ]
  },
  {
   "cell_type": "code",
   "execution_count": 90,
   "metadata": {},
   "outputs": [],
   "source": [
    "top_left_p = [-1, -1]\n",
    "top_right_p = [-1, -1]\n",
    "bottom_left_p = [-1, -1]\n",
    "bottom_right_p = [-1, -1]\n",
    "\n",
    "heigh, width = paper_mask.shape\n",
    "\n",
    "for yy in range(heigh):\n",
    "    for xx in range(width):\n",
    "        if not paper_mask[yy, xx]:\n",
    "            continue\n",
    "\n",
    "        if top_left_p[0] == -1:\n",
    "            top_left_p[0] = xx\n",
    "            top_left_p[1] = yy\n",
    "\n",
    "            top_right_p[0] = xx\n",
    "            top_right_p[1] = yy\n",
    "\n",
    "            bottom_left_p[0] = xx\n",
    "            bottom_left_p[1] = yy\n",
    "\n",
    "            bottom_right_p[0] = xx\n",
    "            bottom_right_p[1] = yy\n",
    "\n",
    "        if xx + yy < top_left_p[0] + top_left_p[1]:\n",
    "            top_left_p[0] = xx\n",
    "            top_left_p[1] = yy\n",
    "\n",
    "        if xx + (heigh - yy) > top_right_p[0] + (heigh - top_right_p[1]):\n",
    "            top_right_p[0] = xx\n",
    "            top_right_p[1] = yy\n",
    "\n",
    "        if width - xx + yy > (width - bottom_left_p[0]) + bottom_left_p[1]:\n",
    "            bottom_left_p[0] = xx\n",
    "            bottom_left_p[1] = yy\n",
    "\n",
    "        if xx + yy > bottom_right_p[0] + bottom_right_p[1]:\n",
    "            bottom_right_p[0] = xx\n",
    "            bottom_right_p[1] = yy"
   ]
  },
  {
   "cell_type": "code",
   "execution_count": 91,
   "metadata": {},
   "outputs": [],
   "source": [
    "# top_left_p = [top_left_p[1], top_left_p[0]]\n",
    "# top_right_p = [top_right_p[1], top_right_p[0]]\n",
    "# bottom_left_p = [bottom_left_p[1], bottom_left_p[0]]\n",
    "# bottom_right_p = [bottom_right_p[1], bottom_right_p[0]]"
   ]
  },
  {
   "cell_type": "code",
   "execution_count": null,
   "metadata": {},
   "outputs": [],
   "source": []
  },
  {
   "cell_type": "code",
   "execution_count": 92,
   "metadata": {},
   "outputs": [],
   "source": [
    "points = np.array([top_left_p, top_right_p, bottom_right_p, bottom_left_p])\n",
    "\n",
    "# paper_ref_1 = [top_left_p[0] + 30, top_left_p[1] + 30]\n",
    "# paper_ref_2 = [top_right_p[0] - 30, top_right_p[1] + 30]\n",
    "# points = np.array([paper_ref_1, paper_ref_2, bottom_right_p, bottom_left_p])\n",
    "# points = np.array([top_left_p, top_right_p])"
   ]
  },
  {
   "cell_type": "code",
   "execution_count": 93,
   "metadata": {},
   "outputs": [],
   "source": [
    "# print(paper_ref_1)\n",
    "# print(paper_ref_2)"
   ]
  },
  {
   "cell_type": "code",
   "execution_count": null,
   "metadata": {},
   "outputs": [],
   "source": []
  },
  {
   "cell_type": "code",
   "execution_count": 94,
   "metadata": {},
   "outputs": [
    {
     "data": {
      "image/png": "[encoded data removed]",
      "text/plain": [
       "<Figure size 800x800 with 1 Axes>"
      ]
     },
     "metadata": {},
     "output_type": "display_data"
    }
   ],
   "source": [
    "# Show image\n",
    "plt.figure(figsize=(8, 8))\n",
    "plt.imshow(paper_mask)\n",
    "\n",
    "# Plot circular markers\n",
    "plt.scatter(points[:, 0], points[:, 1], \n",
    "            c=\"red\", s=80, marker=\"o\", edgecolors=\"white\", linewidths=1.5)\n",
    "\n",
    "# (Optional) Label each point\n",
    "labels = [\"Top Left\", \"Top Right\", \"Bottom Right\", \"Bottom Left\"]\n",
    "for (x, y), label in zip(points, labels):\n",
    "    plt.text(x+5, y-5, label, color=\"blue\", fontsize=10, weight=\"bold\")\n",
    "\n",
    "plt.axis(\"off\")\n",
    "plt.show()"
   ]
  },
  {
   "cell_type": "code",
   "execution_count": 95,
   "metadata": {},
   "outputs": [],
   "source": [
    "toe_p = [-1, -1]\n",
    "fleft_p = [-1, -1]\n",
    "fright_p = [-1, -1]\n",
    "\n",
    "heigh, width = foot_mask.shape\n",
    "\n",
    "for yy in range(heigh):\n",
    "    for xx in range(width):\n",
    "        if not foot_mask[yy, xx]:\n",
    "            continue\n",
    "\n",
    "        if toe_p[0] == -1:\n",
    "            toe_p[0] = xx\n",
    "            toe_p[1] = yy\n",
    "\n",
    "            fleft_p[0] = xx\n",
    "            fleft_p[1] = yy\n",
    "\n",
    "            fright_p[0] = xx\n",
    "            fright_p[1] = yy\n",
    "\n",
    "        if yy < toe_p[1]:\n",
    "            toe_p[0] = xx\n",
    "            toe_p[1] = yy\n",
    "\n",
    "        if xx > fright_p[0]:\n",
    "            fright_p[0] = xx\n",
    "            fright_p[1] = yy\n",
    "\n",
    "        if xx < fleft_p[0]:\n",
    "            fleft_p[0] = xx\n",
    "            fleft_p[1] = yy"
   ]
  },
  {
   "cell_type": "code",
   "execution_count": 96,
   "metadata": {},
   "outputs": [],
   "source": [
    "points_f = np.array([toe_p, fright_p, fleft_p])"
   ]
  },
  {
   "cell_type": "code",
   "execution_count": 97,
   "metadata": {},
   "outputs": [],
   "source": [
    "# points_f"
   ]
  },
  {
   "cell_type": "code",
   "execution_count": 98,
   "metadata": {},
   "outputs": [],
   "source": [
    "# f_ref_p = [toe_p[0], toe_p[1] + 50]"
   ]
  },
  {
   "cell_type": "code",
   "execution_count": 99,
   "metadata": {},
   "outputs": [
    {
     "data": {
      "image/png": "[encoded data removed]",
      "text/plain": [
       "<Figure size 800x800 with 1 Axes>"
      ]
     },
     "metadata": {},
     "output_type": "display_data"
    }
   ],
   "source": [
    "# Show image\n",
    "plt.figure(figsize=(8, 8))\n",
    "plt.imshow(foot_mask)\n",
    "\n",
    "# Plot circular markers\n",
    "plt.scatter(points_f[:, 0], points_f[:, 1], \n",
    "            c=\"red\", s=80, marker=\"o\", edgecolors=\"white\", linewidths=1.5)\n",
    "\n",
    "# (Optional) Label each point\n",
    "labels = [\"toe\", \"most_left\", \"most_right\"]\n",
    "for (x, y), label in zip(points_f, labels):\n",
    "    plt.text(x+5, y-5, label, color=\"blue\", fontsize=10, weight=\"bold\")\n",
    "\n",
    "plt.axis(\"off\")\n",
    "plt.show()"
   ]
  },
  {
   "cell_type": "code",
   "execution_count": null,
   "metadata": {},
   "outputs": [],
   "source": []
  },
  {
   "cell_type": "code",
   "execution_count": 17,
   "metadata": {},
   "outputs": [],
   "source": [
    "import cv2"
   ]
  },
  {
   "cell_type": "code",
   "execution_count": 18,
   "metadata": {},
   "outputs": [],
   "source": [
    "import numpy as np\n",
    "import cv2\n",
    "\n",
    "def project_points_to_top_edge(\n",
    "    corners_img,  # [TL, TR, BR, BL] in image pixels, shape (4,2)\n",
    "    pts_img,      # points to project, shape (N,2)\n",
    "    size_mm=(215.9, 279.4),  # Letter by default (W,H) in mm; use (210,297) for A4\n",
    "    camera_matrix=None,      # 3x3 if you have calibration\n",
    "    dist_coeffs=None         # (k1,k2,p1,p2, ...), if you have calibration\n",
    "):\n",
    "    corners_img = np.asarray(corners_img, dtype=np.float32)\n",
    "    pts_img = np.asarray(pts_img, dtype=np.float32)\n",
    "\n",
    "    # 0) Optional: undistort the image points and the 4 corners\n",
    "    if camera_matrix is not None and dist_coeffs is not None:\n",
    "        def undistort(pts):\n",
    "            return cv2.undistortPoints(\n",
    "                pts.reshape(-1,1,2), camera_matrix, dist_coeffs, P=camera_matrix\n",
    "            ).reshape(-1,2).astype(np.float32)\n",
    "\n",
    "        corners_img = undistort(corners_img)\n",
    "        pts_img = undistort(pts_img)\n",
    "\n",
    "    # 1) Build homography from image->paper coordinates\n",
    "    W, H = size_mm\n",
    "    dst_paper = np.array([[0,0],[W,0],[W,H],[0,H]], dtype=np.float32)  # TL,TR,BR,BL\n",
    "    H_img2paper = cv2.getPerspectiveTransform(corners_img, dst_paper)\n",
    "    H_paper2img = np.linalg.inv(H_img2paper)\n",
    "\n",
    "    # 2) Map points into the paper plane\n",
    "    pts_paper = cv2.perspectiveTransform(pts_img.reshape(-1,1,2), H_img2paper).reshape(-1,2)\n",
    "\n",
    "    # 3) Orthogonal projection onto the top edge y=0, clamped to the segment [x=0..W]\n",
    "    x = np.clip(pts_paper[:,0], 0, W)\n",
    "    projs_paper = np.column_stack([x, np.zeros_like(x)]).astype(np.float32)\n",
    "\n",
    "    # Distances to the top edge in *millimeters* on the paper (signed by convention)\n",
    "    dist_to_top_mm = pts_paper[:,1].copy()  # use np.abs(...) if you want always-positive\n",
    "\n",
    "    # 4) Map the projected points back to the original image\n",
    "    projs_img = cv2.perspectiveTransform(projs_paper.reshape(-1,1,2), H_paper2img).reshape(-1,2)\n",
    "\n",
    "    return projs_img, projs_paper, dist_to_top_mm\n"
   ]
  },
  {
   "cell_type": "code",
   "execution_count": 19,
   "metadata": {},
   "outputs": [],
   "source": [
    "def pick_size_mm_for_top_edge(corners_img, base_size_mm=(215.9, 279.4)):\n",
    "    \"\"\"\n",
    "    corners_img: [TL, TR, BR, BL] in pixels.\n",
    "    base_size_mm: (short, long) side, e.g. (215.9, 279.4) for Letter,\n",
    "                  (210, 297) for A4.\n",
    "    Returns (W, H) so that the TOP edge (TL->TR) maps to the LONGER mm side\n",
    "    if the top edge is longer in the image; otherwise to the shorter side.\n",
    "    \"\"\"\n",
    "    corners = np.asarray(corners_img, float)\n",
    "    TL, TR, BR, BL = corners\n",
    "    top_len_px  = np.linalg.norm(TR - TL)\n",
    "    side_len_px = np.linalg.norm(BR - TR)\n",
    "\n",
    "    short_mm, long_mm = sorted(base_size_mm)\n",
    "    if top_len_px >= side_len_px:\n",
    "        # top edge looks longer in the image -> map to long side\n",
    "        return (long_mm, short_mm)\n",
    "    else:\n",
    "        # top edge looks shorter in the image -> map to short side\n",
    "        return (short_mm, long_mm)\n",
    "\n",
    "\n",
    "def order_corners(pts):\n",
    "    \"\"\"Return corners as (top-left, top-right, bottom-right, bottom-left).\"\"\"\n",
    "    pts = np.asarray(pts, dtype=np.float32)\n",
    "    s = pts.sum(axis=1)\n",
    "    d = np.diff(pts, axis=1).ravel()\n",
    "    tl = pts[np.argmin(s)]\n",
    "    br = pts[np.argmax(s)]\n",
    "    tr = pts[np.argmin(d)]\n",
    "    bl = pts[np.argmax(d)]\n",
    "    return np.array([tl, tr, br, bl], dtype=np.float32)"
   ]
  },
  {
   "cell_type": "code",
   "execution_count": 20,
   "metadata": {},
   "outputs": [],
   "source": [
    "paper_corners = points\n",
    "corners_img = order_corners(paper_corners)  \n",
    "\n",
    "# size_mm = (215.9,279.4)\n",
    "\n",
    "size_mm = pick_size_mm_for_top_edge(corners_img)\n",
    "\n",
    "# If you don’t have calibration, call without it:\n",
    "projs_img, projs_paper, dist_mm = project_points_to_top_edge(\n",
    "    corners_img, points_f, size_mm=size_mm # Letter; use (210,297) for A4\n",
    ")\n",
    "\n",
    "# projs_img: pixel coordinates of the projection points (to draw on the original image)\n",
    "# projs_paper: (x,0) in millimeters on the paper\n",
    "# dist_mm: perpendicular distance from each point to the top edge, in millimeters\n"
   ]
  },
  {
   "cell_type": "code",
   "execution_count": 21,
   "metadata": {},
   "outputs": [],
   "source": [
    "import numpy as np\n",
    "import matplotlib.pyplot as plt\n",
    "\n",
    "def draw_points_and_projections(img, corners_img, points_img, projs_img,\n",
    "                                labels=None, dist_mm=None):\n",
    "    \"\"\"\n",
    "    img:          HxW[x3] array shown with plt.imshow(...)\n",
    "    corners_img:  4x2 array/list in order [TL, TR, BR, BL]  (used to draw top edge)\n",
    "    points_img:   Nx2 array of original points (e.g., toe, most_left, most_right)\n",
    "    projs_img:    Nx2 array of projected points on the top edge (output from your function)\n",
    "    labels:       list of N strings to annotate original points\n",
    "    dist_mm:      optional length-N array of distances in mm (if you computed them)\n",
    "    \"\"\"\n",
    "    img = np.asarray(img)\n",
    "    points_img = np.asarray(points_img, dtype=float)\n",
    "    projs_img = np.asarray(projs_img, dtype=float)\n",
    "    corners_img = np.asarray(corners_img, dtype=float)\n",
    "\n",
    "    plt.figure(figsize=(8, 8))\n",
    "    plt.imshow(img)\n",
    "\n",
    "    # Draw the top edge (TL -> TR) for context\n",
    "    TL, TR = corners_img[0], corners_img[1]\n",
    "    plt.plot([TL[0], TR[0]], [TL[1], TR[1]], linewidth=2, color=\"yellow\", label=\"top edge\")\n",
    "\n",
    "    # Original points\n",
    "    plt.scatter(points_img[:, 0], points_img[:, 1],\n",
    "                c=\"red\", s=80, marker=\"o\", edgecolors=\"white\", linewidths=1.5,\n",
    "                label=\"original\")\n",
    "\n",
    "    # Projected points on the top edge\n",
    "    plt.scatter(projs_img[:, 0], projs_img[:, 1],\n",
    "                c=\"cyan\", s=90, marker=\"x\", linewidths=2,\n",
    "                label=\"projection\")\n",
    "\n",
    "    # Connectors + labels\n",
    "    for i, (p, q) in enumerate(zip(points_img, projs_img)):\n",
    "        plt.plot([p[0], q[0]], [p[1], q[1]], linestyle=\"--\", linewidth=1.5, color=\"cyan\")\n",
    "        if labels:\n",
    "            plt.text(p[0] + 5, p[1] - 5, labels[i], color=\"blue\", fontsize=10, weight=\"bold\")\n",
    "        if dist_mm is not None:\n",
    "            mx, my = (p[0] + q[0]) / 2, (p[1] + q[1]) / 2\n",
    "            plt.text(mx, my, f\"{dist_mm[i]:.1f} mm\",\n",
    "                     color=\"white\", fontsize=9, ha=\"center\", va=\"center\",\n",
    "                     bbox=dict(boxstyle=\"round,pad=0.2\", fc=\"black\", alpha=0.35))\n",
    "\n",
    "    plt.axis(\"off\")\n",
    "    plt.legend(loc=\"lower right\")\n"
   ]
  },
  {
   "cell_type": "code",
   "execution_count": 22,
   "metadata": {},
   "outputs": [
    {
     "data": {
      "image/png": "[encoded data removed]",
      "text/plain": [
       "<Figure size 800x800 with 1 Axes>"
      ]
     },
     "metadata": {},
     "output_type": "display_data"
    }
   ],
   "source": [
    "# After you computed `projs_img, projs_paper, dist_mm = project_points_to_top_edge(...)`\n",
    "labels = [\"toe\", \"most_left\", \"most_right\"]\n",
    "draw_points_and_projections(\n",
    "    img=foot_mask,                 # or your original RGB image\n",
    "    corners_img=corners_img,       # [TL, TR, BR, BL]\n",
    "    points_img=points_f,           # Nx2 original points\n",
    "    projs_img=projs_img,           # Nx2 projected points (in image coords)\n",
    "    labels=labels,\n",
    "    dist_mm=dist_mm                # optional; remove if not needed\n",
    ")"
   ]
  },
  {
   "cell_type": "code",
   "execution_count": 23,
   "metadata": {},
   "outputs": [],
   "source": [
    "# def pick_size_mm_for_top_edge(corners_img, base_size_mm=(215.9, 279.4)):\n",
    "#     \"\"\"\n",
    "#     corners_img: [TL, TR, BR, BL] in pixels.\n",
    "#     base_size_mm: (short, long) side, e.g. (215.9, 279.4) for Letter,\n",
    "#                   (210, 297) for A4.\n",
    "#     Returns (W, H) so that the TOP edge (TL->TR) maps to the LONGER mm side\n",
    "#     if the top edge is longer in the image; otherwise to the shorter side.\n",
    "#     \"\"\"\n",
    "#     corners = np.asarray(corners_img, float)\n",
    "#     TL, TR, BR, BL = corners\n",
    "#     top_len_px  = np.linalg.norm(TR - TL)\n",
    "#     side_len_px = np.linalg.norm(BR - TR)\n",
    "\n",
    "#     short_mm, long_mm = sorted(base_size_mm)\n",
    "#     if top_len_px >= side_len_px:\n",
    "#         # top edge looks longer in the image -> map to long side\n",
    "#         return (long_mm, short_mm)\n",
    "#     else:\n",
    "#         # top edge looks shorter in the image -> map to short side\n",
    "#         return (short_mm, long_mm)"
   ]
  },
  {
   "cell_type": "code",
   "execution_count": 24,
   "metadata": {},
   "outputs": [
    {
     "name": "stdout",
     "output_type": "stream",
     "text": [
      "Distance between projected 'most_left' and 'most_right' (mm): 106.48\n",
      "Distance between projected points (pixels): 1001.02\n"
     ]
    }
   ],
   "source": [
    "# After you've already computed:\n",
    "# projs_img, projs_paper, dist_mm = project_points_to_top_edge(...)\n",
    "# and you have the labels in this order for your 3 points:\n",
    "labels = [\"toe\", \"most_left\", \"most_right\"]\n",
    "\n",
    "# Find indices\n",
    "idx = {lbl: i for i, lbl in enumerate(labels)}\n",
    "iL, iR = idx[\"most_left\"], idx[\"most_right\"]\n",
    "\n",
    "# ---- Option A: real-world distance in millimeters (recommended) ----\n",
    "# projs_paper holds coordinates in the rectified paper plane (mm), so the\n",
    "# projections lie on y=0. Distance along the top edge is |Δx|:\n",
    "xL, xR = projs_paper[iL, 0], projs_paper[iR, 0]\n",
    "dist_edge_mm = float(abs(xR - xL))\n",
    "print(f\"Distance between projected 'most_left' and 'most_right' (mm): {dist_edge_mm:.2f}\")\n",
    "\n",
    "# ---- Option B: pixel distance in the original image (if you prefer pixels) ----\n",
    "pL, pR = projs_img[iL], projs_img[iR]\n",
    "dist_edge_px = float(np.linalg.norm(pR - pL))\n",
    "print(f\"Distance between projected points (pixels): {dist_edge_px:.2f}\")"
   ]
  },
  {
   "cell_type": "code",
   "execution_count": 30,
   "metadata": {},
   "outputs": [],
   "source": [
    "# Decide orientation automatically\n",
    "size_mm = pick_size_mm_for_top_edge(corners_img, base_size_mm=(215.9, 279.4))  # Letter\n",
    "projs_img, projs_paper, dist_mm = project_points_to_top_edge(\n",
    "    corners_img, points_f, size_mm=size_mm,\n",
    "    camera_matrix=None, dist_coeffs=None\n",
    ")"
   ]
  },
  {
   "cell_type": "code",
   "execution_count": 31,
   "metadata": {},
   "outputs": [
    {
     "data": {
      "text/plain": [
       "array([    -56.202,     -30.283,      32.223], dtype=float32)"
      ]
     },
     "execution_count": 31,
     "metadata": {},
     "output_type": "execute_result"
    }
   ],
   "source": [
    "dist_mm"
   ]
  },
  {
   "cell_type": "code",
   "execution_count": null,
   "metadata": {},
   "outputs": [],
   "source": []
  },
  {
   "cell_type": "code",
   "execution_count": 24,
   "metadata": {},
   "outputs": [],
   "source": [
    "\n",
    "\n",
    "\n",
    "def foot_distance_mm(paper_corners, toe_pt, ankle_pt, paper_size_mm):\n",
    "    \"\"\"\n",
    "    paper_corners: list/array of 4 (x,y) image points (any order) on the paper corners\n",
    "    toe_pt, ankle_pt: (x,y) image points\n",
    "    paper_size_mm: (width_mm, height_mm), e.g. A4=(210, 297), Letter=(215.9, 279.4)\n",
    "    \"\"\"\n",
    "    W_mm, H_mm = paper_size_mm\n",
    "\n",
    "    # 1) Order paper corners consistently\n",
    "    src = order_corners(paper_corners)  # tl, tr, br, bl\n",
    "\n",
    "    # 2) Target plane is a rectangle in MILLIMETERS\n",
    "    dst = np.array([[0, 0],\n",
    "                    [W_mm, 0],\n",
    "                    [W_mm, H_mm],\n",
    "                    [0, H_mm]], dtype=np.float32)\n",
    "\n",
    "    # 3) Homography from image -> metric (mm) plane\n",
    "    H, _ = cv2.findHomography(src, dst, method=0)\n",
    "\n",
    "    # 4) Transform toe/ankle into metric plane (units: mm)\n",
    "    pts = np.array([[toe_pt, ankle_pt]], dtype=np.float32)  # shape (1,2,2)\n",
    "    pts_mm = cv2.perspectiveTransform(pts, H)[0]            # shape (2,2)\n",
    "\n",
    "    toe_mm, ankle_mm = pts_mm[0], pts_mm[1]\n",
    "    dist_mm = float(np.linalg.norm(toe_mm - ankle_mm))\n",
    "    return dist_mm, toe_mm, ankle_mm\n"
   ]
  },
  {
   "cell_type": "code",
   "execution_count": 111,
   "metadata": {},
   "outputs": [
    {
     "name": "stdout",
     "output_type": "stream",
     "text": [
      "Toe–ankle distance: 270.9 mm (27.09 cm)\n"
     ]
    }
   ],
   "source": [
    "# ----------------- EXAMPLE USAGE -----------------\n",
    "\n",
    "# Replace these with your actual detections (image pixel coordinates)\n",
    "paper_corners = points\n",
    "\n",
    "toe_pt   = toe_p\n",
    "ankle_pt = ankle_p\n",
    "\n",
    "# Choose paper size:\n",
    "A4_MM      = (210.0, 297.0)\n",
    "LETTER_MM  = (215.9, 279.4)  # 8.5 x 11 inches\n",
    "\n",
    "dist_mm, toe_mm, ankle_mm = foot_distance_mm(\n",
    "    paper_corners, toe_pt, ankle_pt, paper_size_mm=LETTER_MM  # or A4_MM\n",
    ")\n",
    "\n",
    "print(f\"Toe–ankle distance: {dist_mm:.1f} mm ({dist_mm/10:.2f} cm)\")"
   ]
  },
  {
   "cell_type": "code",
   "execution_count": 112,
   "metadata": {},
   "outputs": [],
   "source": [
    "# Mondopoint (cm) reference to EU/US/UK - adults (approx.)\n",
    "# MEN\n",
    "MEN_TABLE = {\n",
    "    24.5: {\"EU\": 39,   \"US\": 6.5, \"UK\": 6},\n",
    "    25.0: {\"EU\": 40,   \"US\": 7.0, \"UK\": 6.5},\n",
    "    25.5: {\"EU\": 40.5, \"US\": 7.5, \"UK\": 7},\n",
    "    26.0: {\"EU\": 41,   \"US\": 8.0, \"UK\": 7.5},\n",
    "    26.5: {\"EU\": 42,   \"US\": 8.5, \"UK\": 8},\n",
    "    27.0: {\"EU\": 42.5, \"US\": 9.0, \"UK\": 8.5},\n",
    "    27.5: {\"EU\": 43,   \"US\": 9.5, \"UK\": 9},\n",
    "    28.0: {\"EU\": 44,   \"US\":10.0, \"UK\": 9.5},\n",
    "    28.5: {\"EU\": 44.5, \"US\":10.5, \"UK\":10},\n",
    "    29.0: {\"EU\": 45,   \"US\":11.0, \"UK\":10.5},\n",
    "    29.5: {\"EU\": 46,   \"US\":11.5, \"UK\":11},\n",
    "    30.0: {\"EU\": 46.5, \"US\":12.0, \"UK\":11.5},\n",
    "}\n",
    "\n",
    "# WOMEN\n",
    "WOMEN_TABLE = {\n",
    "    22.0: {\"EU\": 35,   \"US\": 5.0, \"UK\": 2.5},\n",
    "    22.5: {\"EU\": 35.5, \"US\": 5.5, \"UK\": 3.0},\n",
    "    23.0: {\"EU\": 36,   \"US\": 6.0, \"UK\": 3.5},\n",
    "    23.5: {\"EU\": 37,   \"US\": 6.5, \"UK\": 4.0},\n",
    "    24.0: {\"EU\": 37.5, \"US\": 7.0, \"UK\": 4.5},\n",
    "    24.5: {\"EU\": 38,   \"US\": 7.5, \"UK\": 5.0},\n",
    "    25.0: {\"EU\": 39,   \"US\": 8.0, \"UK\": 5.5},\n",
    "    25.5: {\"EU\": 39.5, \"US\": 8.5, \"UK\": 6.0},\n",
    "    26.0: {\"EU\": 40,   \"US\": 9.0, \"UK\": 6.5},\n",
    "    26.5: {\"EU\": 41,   \"US\": 9.5, \"UK\": 7.0},\n",
    "    27.0: {\"EU\": 42,   \"US\":10.0, \"UK\": 7.5},\n",
    "}"
   ]
  },
  {
   "cell_type": "code",
   "execution_count": null,
   "metadata": {},
   "outputs": [],
   "source": []
  }
 ],
 "metadata": {
  "kernelspec": {
   "display_name": "cv2",
   "language": "python",
   "name": "python3"
  },
  "language_info": {
   "codemirror_mode": {
    "name": "ipython",
    "version": 3
   },
   "file_extension": ".py",
   "mimetype": "text/x-python",
   "name": "python",
   "nbconvert_exporter": "python",
   "pygments_lexer": "ipython3",
   "version": "3.12.7"
  },
  "orig_nbformat": 4
 },
 "nbformat": 4,
 "nbformat_minor": 2
}
